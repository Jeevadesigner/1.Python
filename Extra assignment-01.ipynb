{
 "cells": [
  {
   "cell_type": "code",
   "execution_count": 1,
   "id": "6ce8fbf0-70a0-4bc9-bdad-c0dba02d350d",
   "metadata": {},
   "outputs": [
    {
     "name": "stdout",
     "output_type": "stream",
     "text": [
      "Hope AI\n"
     ]
    }
   ],
   "source": [
    "print(\"Hope AI\")"
   ]
  },
  {
   "cell_type": "code",
   "execution_count": 3,
   "id": "89afd8d3-5de1-4f37-b68d-82c200a732a3",
   "metadata": {},
   "outputs": [
    {
     "name": "stdout",
     "output_type": "stream",
     "text": [
      "Instution Name:Hope AI \n"
     ]
    }
   ],
   "source": [
    "print(\"Instution Name:Hope AI \")"
   ]
  },
  {
   "cell_type": "code",
   "execution_count": 7,
   "id": "763f30a1-b1bc-49ce-994e-fc11274dd926",
   "metadata": {},
   "outputs": [
    {
     "name": "stdin",
     "output_type": "stream",
     "text": [
      "Name: Jeeva\n",
      "Age: 23\n",
      "School Name : Government higher secondary school \n",
      "Degeree: B.E.Civil\n"
     ]
    }
   ],
   "source": [
    "Name=(input(\"Name:\"))\n",
    "Age=int(input(\"Age:\"))\n",
    "SchoolName=(input(\"School Name :\"))\n",
    "Degeree=(input(\"Degeree:\"))                  "
   ]
  },
  {
   "cell_type": "code",
   "execution_count": 11,
   "id": "b720f688-bbbf-4c2a-8e3c-a300e147c78c",
   "metadata": {},
   "outputs": [],
   "source": [
    "#Addition"
   ]
  },
  {
   "cell_type": "code",
   "execution_count": 9,
   "id": "2fbfd0fa-df15-49c0-9baa-d2adeb879aed",
   "metadata": {},
   "outputs": [
    {
     "name": "stdout",
     "output_type": "stream",
     "text": [
      "a: 43\n",
      "b: 34\n",
      "add: 77\n"
     ]
    }
   ],
   "source": [
    "a=43\n",
    "print(\"a:\",43)\n",
    "b=34\n",
    "print(\"b:\",34)\n",
    "print(\"add:\",a+b)"
   ]
  },
  {
   "cell_type": "code",
   "execution_count": 13,
   "id": "8a74f183-7aa5-46a3-aceb-49ddaa1ec249",
   "metadata": {},
   "outputs": [],
   "source": [
    "#Subraction"
   ]
  },
  {
   "cell_type": "code",
   "execution_count": 15,
   "id": "f8b5a31a-c787-4d2d-88fa-659253ceccd3",
   "metadata": {},
   "outputs": [
    {
     "name": "stdout",
     "output_type": "stream",
     "text": [
      "a: 43\n",
      "b: 34\n",
      "sub: 9\n"
     ]
    }
   ],
   "source": [
    "a=43\n",
    "print(\"a:\",43)\n",
    "b=34\n",
    "print(\"b:\",34)\n",
    "print(\"sub:\",a-b)"
   ]
  },
  {
   "cell_type": "code",
   "execution_count": 17,
   "id": "74902da0-021e-4a71-a753-28b2a9341848",
   "metadata": {},
   "outputs": [],
   "source": [
    "#Mulitification"
   ]
  },
  {
   "cell_type": "code",
   "execution_count": 23,
   "id": "a06507af-162c-4daf-a10c-5461028cd555",
   "metadata": {},
   "outputs": [
    {
     "name": "stdout",
     "output_type": "stream",
     "text": [
      "a: 63\n",
      "b: 97\n",
      "mul: 6111\n"
     ]
    }
   ],
   "source": [
    "a=63\n",
    "print(\"a:\",63)\n",
    "b=97\n",
    "print(\"b:\",97)\n",
    "print(\"mul:\",a*b)"
   ]
  },
  {
   "cell_type": "code",
   "execution_count": 25,
   "id": "1e4e08bd-641d-47f6-bc27-259a0b2bfd7e",
   "metadata": {},
   "outputs": [],
   "source": [
    "#Divition "
   ]
  },
  {
   "cell_type": "code",
   "execution_count": 27,
   "id": "53141390-d5df-437a-873c-b27673c583ae",
   "metadata": {},
   "outputs": [
    {
     "name": "stdout",
     "output_type": "stream",
     "text": [
      "a: 76\n",
      "b: 31\n",
      "div: 2.4516129032258065\n"
     ]
    }
   ],
   "source": [
    "a=76\n",
    "print(\"a:\",76)\n",
    "b=31\n",
    "print(\"b:\",31)\n",
    "print(\"div:\",a/b)"
   ]
  },
  {
   "cell_type": "code",
   "execution_count": 29,
   "id": "38961cd5-9dbf-400c-bc75-da9c1d27736b",
   "metadata": {},
   "outputs": [],
   "source": [
    "#Floor Divition"
   ]
  },
  {
   "cell_type": "code",
   "execution_count": 31,
   "id": "089ece5d-cccb-41d1-872b-f2870ed66df8",
   "metadata": {},
   "outputs": [
    {
     "name": "stdout",
     "output_type": "stream",
     "text": [
      "a: 76\n",
      "b: 31\n",
      "floor divtion: 2\n"
     ]
    }
   ],
   "source": [
    "a=76\n",
    "print(\"a:\",76)\n",
    "b=31\n",
    "print(\"b:\",31)\n",
    "print(\"floor divtion:\",a//b)"
   ]
  },
  {
   "cell_type": "code",
   "execution_count": 33,
   "id": "4d3c7681-a552-4b5b-99e2-06f00ffa56fa",
   "metadata": {},
   "outputs": [
    {
     "name": "stdout",
     "output_type": "stream",
     "text": [
      "a: 4\n",
      "b: 4\n",
      "Power: 256\n"
     ]
    }
   ],
   "source": [
    "a=4\n",
    "print(\"a:\",4)\n",
    "b=4\n",
    "print(\"b:\",4)\n",
    "print(\"Power:\",a**b)"
   ]
  },
  {
   "cell_type": "code",
   "execution_count": null,
   "id": "8a56f620-2330-42d4-9ccb-f2d6f0c4313e",
   "metadata": {},
   "outputs": [],
   "source": []
  }
 ],
 "metadata": {
  "kernelspec": {
   "display_name": "Python [conda env:base] *",
   "language": "python",
   "name": "conda-base-py"
  },
  "language_info": {
   "codemirror_mode": {
    "name": "ipython",
    "version": 3
   },
   "file_extension": ".py",
   "mimetype": "text/x-python",
   "name": "python",
   "nbconvert_exporter": "python",
   "pygments_lexer": "ipython3",
   "version": "3.12.7"
  }
 },
 "nbformat": 4,
 "nbformat_minor": 5
}
