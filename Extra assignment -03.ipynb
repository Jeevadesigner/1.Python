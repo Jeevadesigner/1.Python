{
 "cells": [
  {
   "cell_type": "code",
   "execution_count": 7,
   "id": "51fa66fd-4983-4824-b62b-12faf4dd7d47",
   "metadata": {},
   "outputs": [
    {
     "name": "stdout",
     "output_type": "stream",
     "text": [
      "i: 10\n"
     ]
    }
   ],
   "source": [
    "i=10\n",
    "print(\"i:\",10)"
   ]
  },
  {
   "cell_type": "code",
   "execution_count": 3,
   "id": "b8145216-3043-49a7-b949-a1760d911996",
   "metadata": {},
   "outputs": [
    {
     "name": "stdout",
     "output_type": "stream",
     "text": [
      "correct\n"
     ]
    }
   ],
   "source": [
    "if i==10:\n",
    "    print(\"correct\")"
   ]
  },
  {
   "cell_type": "code",
   "execution_count": 9,
   "id": "2b808c70-4e72-4603-8886-cdac7329901d",
   "metadata": {},
   "outputs": [],
   "source": [
    "password=\"HOPE@123\""
   ]
  },
  {
   "cell_type": "code",
   "execution_count": 29,
   "id": "00e728f6-36a4-496b-b736-6f51a8bf9b7f",
   "metadata": {},
   "outputs": [
    {
     "name": "stdin",
     "output_type": "stream",
     "text": [
      "enter password: HOPE@123\n"
     ]
    }
   ],
   "source": [
    "password = (input(\"enter password:\"))"
   ]
  },
  {
   "cell_type": "code",
   "execution_count": 35,
   "id": "766e9492-75a1-4198-a74e-b5d51e62780f",
   "metadata": {},
   "outputs": [
    {
     "name": "stdout",
     "output_type": "stream",
     "text": [
      "Your password is correct\n"
     ]
    }
   ],
   "source": [
    "if password== \"HOPE@123\":\n",
    "    print(\"Your password is correct\")\n",
    "else:\n",
    "    print(\"Your password is wrong\")"
   ]
  },
  {
   "cell_type": "code",
   "execution_count": 37,
   "id": "0f3d3945-78ec-4626-b9c8-b3f39f936f1b",
   "metadata": {},
   "outputs": [],
   "source": [
    "password=\"Jeeva@123\""
   ]
  },
  {
   "cell_type": "code",
   "execution_count": 39,
   "id": "568686ad-a3d2-4100-94b8-48ba3a8e6ed5",
   "metadata": {},
   "outputs": [
    {
     "name": "stdin",
     "output_type": "stream",
     "text": [
      "Enter password: Jeeva@001\n"
     ]
    }
   ],
   "source": [
    "password=(input(\"Enter password:\"))"
   ]
  },
  {
   "cell_type": "code",
   "execution_count": 41,
   "id": "afa5f3cb-1571-4b63-b528-63cef3a58712",
   "metadata": {},
   "outputs": [
    {
     "name": "stdout",
     "output_type": "stream",
     "text": [
      "your password is wrong\n"
     ]
    }
   ],
   "source": [
    "if password==\"Jeeva@123\":\n",
    "    print(\"your password is correct\")\n",
    "else:\n",
    "    print(\"your password is wrong\")"
   ]
  },
  {
   "cell_type": "code",
   "execution_count": 43,
   "id": "ee9be60e-001d-4633-8e6f-493715baecb0",
   "metadata": {},
   "outputs": [
    {
     "name": "stdin",
     "output_type": "stream",
     "text": [
      "enter the age: 20\n"
     ]
    }
   ],
   "source": [
    "age=int(input(\"enter the age:\"))"
   ]
  },
  {
   "cell_type": "code",
   "execution_count": 45,
   "id": "f004757c-f17c-424f-9cff-3b9a9161a1bd",
   "metadata": {},
   "outputs": [
    {
     "name": "stdout",
     "output_type": "stream",
     "text": [
      "adult\n"
     ]
    }
   ],
   "source": [
    "if(age<18):\n",
    "    print(\"children\")\n",
    "elif(age<35):\n",
    "    print(\"adult\")\n",
    "elif(age<59):\n",
    "    print(\"citzen\")\n",
    "else:\n",
    "    print(\"seniour citzen\")"
   ]
  },
  {
   "cell_type": "code",
   "execution_count": 47,
   "id": "69c3571e-a658-4292-9de3-7564f693c4ab",
   "metadata": {},
   "outputs": [
    {
     "name": "stdin",
     "output_type": "stream",
     "text": [
      "Enter the num: 1\n"
     ]
    }
   ],
   "source": [
    "num=int(input(\"Enter the num:\"))"
   ]
  },
  {
   "cell_type": "code",
   "execution_count": 49,
   "id": "a32dc041-6935-4eea-8e19-f9d6ef200f69",
   "metadata": {},
   "outputs": [
    {
     "name": "stdout",
     "output_type": "stream",
     "text": [
      "No is Possitive\n"
     ]
    }
   ],
   "source": [
    "if (num>0):\n",
    "    print (\"No is Possitive\")\n",
    "elif(num<0):\n",
    "    print(\"No is negative\")\n",
    "else:\n",
    "    print(\"this is Zero\")"
   ]
  },
  {
   "cell_type": "code",
   "execution_count": 51,
   "id": "8c2bdf10-07ab-45c5-a67a-4ee5a5763d3f",
   "metadata": {},
   "outputs": [
    {
     "name": "stdin",
     "output_type": "stream",
     "text": [
      "Enter a number:  22\n"
     ]
    }
   ],
   "source": [
    "num = int(input(\"Enter a number: \"))"
   ]
  },
  {
   "cell_type": "code",
   "execution_count": 53,
   "id": "cc0acf0a-4500-4778-9600-c5589b3bfd59",
   "metadata": {},
   "outputs": [
    {
     "name": "stdout",
     "output_type": "stream",
     "text": [
      "The number is not divisible by 5.\n"
     ]
    }
   ],
   "source": [
    "if num % 5 == 0:\n",
    "    print(\"The number is divisible by 5.\")\n",
    "else:\n",
    "    print(\"The number is not divisible by 5.\")"
   ]
  },
  {
   "cell_type": "code",
   "execution_count": 63,
   "id": "aa36762f-80ae-4fda-aa82-9f2a663a44d1",
   "metadata": {},
   "outputs": [
    {
     "name": "stdin",
     "output_type": "stream",
     "text": [
      "Enter a number:  5\n"
     ]
    }
   ],
   "source": [
    "num = int(input(\"Enter a number: \"))"
   ]
  },
  {
   "cell_type": "code",
   "execution_count": 65,
   "id": "2af2fdd8-7c71-4edb-84aa-e992ebb14450",
   "metadata": {},
   "outputs": [
    {
     "name": "stdout",
     "output_type": "stream",
     "text": [
      "The number is not divisible by 6.\n"
     ]
    }
   ],
   "source": [
    "if num % 6 == 0:\n",
    "    print(\"The number is divisible by 6.\")\n",
    "else:\n",
    "    print(\"The number is not divisible by 6.\")"
   ]
  },
  {
   "cell_type": "code",
   "execution_count": null,
   "id": "cc5c6da3-32e3-4a92-9580-5458bb31d14e",
   "metadata": {},
   "outputs": [],
   "source": []
  }
 ],
 "metadata": {
  "kernelspec": {
   "display_name": "Python [conda env:base] *",
   "language": "python",
   "name": "conda-base-py"
  },
  "language_info": {
   "codemirror_mode": {
    "name": "ipython",
    "version": 3
   },
   "file_extension": ".py",
   "mimetype": "text/x-python",
   "name": "python",
   "nbconvert_exporter": "python",
   "pygments_lexer": "ipython3",
   "version": "3.12.7"
  }
 },
 "nbformat": 4,
 "nbformat_minor": 5
}
