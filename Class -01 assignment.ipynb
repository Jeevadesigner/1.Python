{
 "cells": [
  {
   "cell_type": "code",
   "execution_count": 45,
   "id": "2d9884e9-5ba4-4b4e-a248-4161e917314f",
   "metadata": {},
   "outputs": [],
   "source": [
    "class subfeildsinai:\n",
    "    def subfields(self):\n",
    "        print(\"Sub-fields in AI are:\")\n",
    "        print(\"1.Machine Learning\")\n",
    "        print(\"2.Neural Networks\")\n",
    "        print(\"3.Vision\")\n",
    "        print(\"4.Robotics\")\n",
    "        print(\"5.Speech Processing\")\n",
    "        print(\"6.Natural Language Processing\")"
   ]
  },
  {
   "cell_type": "code",
   "execution_count": 47,
   "id": "d850dd88-89cc-4132-bf37-7c83840932e1",
   "metadata": {},
   "outputs": [],
   "source": [
    "ai = subfeildsinai()"
   ]
  },
  {
   "cell_type": "code",
   "execution_count": 49,
   "id": "775b5d9d-53ad-4fd2-a0f8-29188ab1b33f",
   "metadata": {},
   "outputs": [
    {
     "name": "stdout",
     "output_type": "stream",
     "text": [
      "Sub-fields in AI are:\n",
      "1.Machine Learning\n",
      "2.Neural Networks\n",
      "3.Vision\n",
      "4.Robotics\n",
      "5.Speech Processing\n",
      "6.Natural Language Processing\n"
     ]
    }
   ],
   "source": [
    "ai.subfields()"
   ]
  },
  {
   "cell_type": "code",
   "execution_count": 3,
   "id": "f58ea628-4667-4fd8-b7b8-158ff709e872",
   "metadata": {},
   "outputs": [],
   "source": [
    "class OddEven:\n",
    "    def check_number(self, num):\n",
    "        if num % 2 == 0:\n",
    "            print(f\"{num} is an Even number.\")\n",
    "        else:\n",
    "            print(f\"{num} is an Odd number.\")"
   ]
  },
  {
   "cell_type": "code",
   "execution_count": 5,
   "id": "44b47173-aa10-4ffc-ab50-a8f939d64ed0",
   "metadata": {},
   "outputs": [
    {
     "name": "stdin",
     "output_type": "stream",
     "text": [
      "Enter a number:  52452\n"
     ]
    },
    {
     "name": "stdout",
     "output_type": "stream",
     "text": [
      "52452 is an Even number.\n"
     ]
    }
   ],
   "source": [
    "checker = OddEven()\n",
    "num = int(input(\"Enter a number: \"))\n",
    "checker.check_number(num)"
   ]
  },
  {
   "cell_type": "code",
   "execution_count": 27,
   "id": "ca8a7244-6d99-4ac1-b830-89f24f7560f9",
   "metadata": {},
   "outputs": [],
   "source": [
    "def marraige_function(gender,age):\n",
    "    if gender == \"male\" and age >= 21:\n",
    "        print(\"Eligible for marriage.\")\n",
    "    elif gender == \"female\" and age >= 18:\n",
    "        print(\"Eligible for marriage.\")\n",
    "    else:\n",
    "        print(\"Not eligible for marriage.\")"
   ]
  },
  {
   "cell_type": "code",
   "execution_count": 31,
   "id": "a0b1a5e5-6e40-4512-a206-d8c42010313b",
   "metadata": {},
   "outputs": [
    {
     "name": "stdin",
     "output_type": "stream",
     "text": [
      "Gendername: Male\n",
      "Age: 20\n"
     ]
    },
    {
     "name": "stdout",
     "output_type": "stream",
     "text": [
      "Not eligible for marriage.\n"
     ]
    }
   ],
   "source": [
    "gender=input(\"Gendername:\")\n",
    "age=int(input(\"Age:\"))\n",
    "marraige_function (gender,age)"
   ]
  },
  {
   "cell_type": "code",
   "execution_count": 33,
   "id": "cfe6cc90-941b-46ea-8da2-ff48b82cbd86",
   "metadata": {},
   "outputs": [],
   "source": [
    "# calculate the percentage of your 10th mark\n"
   ]
  },
  {
   "cell_type": "code",
   "execution_count": 15,
   "id": "6f02ff16-00b3-4e23-ba6b-2c0788b25927",
   "metadata": {},
   "outputs": [
    {
     "name": "stdout",
     "output_type": "stream",
     "text": [
      "sub1: 98\n",
      "sub2: 87\n",
      "sub3: 95\n",
      "sub4: 95\n",
      "sub5: 93\n",
      "total: 468\n",
      "percentage: 93.60000000000001\n"
     ]
    }
   ],
   "source": [
    "subject1 = 98\n",
    "subject2 = 87\n",
    "subject3 = 95\n",
    "subject4 = 95\n",
    "subject5 = 93\n",
    "total = 98+87+95+95+93\n",
    "percentage=(total/500)*100\n",
    "print(\"sub1:\",subject1)\n",
    "print(\"sub2:\",subject2)\n",
    "print(\"sub3:\",subject3)\n",
    "print(\"sub4:\",subject4)\n",
    "print(\"sub5:\",subject5)\n",
    "print(\"total:\",total)\n",
    "print(\"percentage:\",percentage)"
   ]
  },
  {
   "cell_type": "code",
   "execution_count": 17,
   "id": "8080d480-833a-4bd3-8933-f151a1c81b0b",
   "metadata": {},
   "outputs": [],
   "source": [
    "def perecntage():\n",
    "    subject1 = 98\n",
    "    subject2 = 87\n",
    "    subject3 = 95\n",
    "    subject4 = 95\n",
    "    subject5 = 93\n",
    "    total = 98+87+95+95+93\n",
    "    percentage=(total/500)*100\n",
    "    print(\"sub1:\",subject1)\n",
    "    print(\"sub2:\",subject2)\n",
    "    print(\"sub3:\",subject3)\n",
    "    print(\"sub4:\",subject4)\n",
    "    print(\"sub5:\",subject5)\n",
    "    print(\"total:\",total)\n",
    "    print(\"percentage:\",percentage)\n",
    "    "
   ]
  },
  {
   "cell_type": "code",
   "execution_count": 31,
   "id": "525672d5-32b1-4e24-9860-2df4753c4404",
   "metadata": {},
   "outputs": [
    {
     "name": "stdout",
     "output_type": "stream",
     "text": [
      "sub1: 98\n",
      "sub2: 87\n",
      "sub3: 95\n",
      "sub4: 95\n",
      "sub5: 93\n",
      "total: 468\n",
      "percentage: 93.60000000000001\n"
     ]
    }
   ],
   "source": [
    "perecntage()"
   ]
  },
  {
   "cell_type": "code",
   "execution_count": 120,
   "id": "6660c212-6a2d-4406-90c7-7e9e56de2109",
   "metadata": {},
   "outputs": [],
   "source": [
    "class FindPercentage:\n",
    "    def percentage(self):\n",
    "        subject1 = 98\n",
    "        subject2 = 87\n",
    "        subject3 = 95\n",
    "        subject4 = 95\n",
    "        subject5 = 93\n",
    "        total = subject1 + subject2 + subject3 + subject4 + subject5\n",
    "        percentage = (total / 500) * 100\n",
    "        print(\"Sub1:\", subject1)\n",
    "        print(\"Sub2:\", subject2)\n",
    "        print(\"Sub3:\", subject3)\n",
    "        print(\"Sub4:\", subject4)\n",
    "        print(\"Sub5:\", subject5)\n",
    "        print(\"Total:\", total)\n",
    "        print(\"Percentage:\",percentage )"
   ]
  },
  {
   "cell_type": "code",
   "execution_count": 122,
   "id": "a0ed2ba1-a8a2-4ed7-b78b-1c53d12e7981",
   "metadata": {},
   "outputs": [],
   "source": [
    "student = FindPercentage()"
   ]
  },
  {
   "cell_type": "code",
   "execution_count": 124,
   "id": "1ba09c4f-f03a-414c-be64-f99a7a33afd2",
   "metadata": {},
   "outputs": [
    {
     "name": "stdout",
     "output_type": "stream",
     "text": [
      "Sub1: 98\n",
      "Sub2: 87\n",
      "Sub3: 95\n",
      "Sub4: 95\n",
      "Sub5: 93\n",
      "Total: 468\n",
      "Percentage: 93.60000000000001\n"
     ]
    }
   ],
   "source": [
    "student.percentage()"
   ]
  },
  {
   "cell_type": "code",
   "execution_count": 126,
   "id": "f79e219c-c442-44e6-adeb-0000611c0133",
   "metadata": {},
   "outputs": [],
   "source": [
    "class Triangle:\n",
    "    def triangle(self):\n",
    "        height = 32\n",
    "        breadth = 34\n",
    "        area = (height * breadth) / 2\n",
    "        print(\"Height:\", height)\n",
    "        print(\"Breadth:\", breadth)\n",
    "        print(\"Area formula: (Height * Breadth) / 2\")\n",
    "        print(\"Area of Triangle:\", area)\n",
    "        height1 = 2\n",
    "        height2 = 4\n",
    "        breadth = 4\n",
    "        perimeter = height1 + height2 + breadth\n",
    "        print(\"Height1:\", height1)\n",
    "        print(\"Height2:\", height2)\n",
    "        print(\"Breadth:\", breadth)\n",
    "        print(\"Perimeter formula: Height1 + Height2 + Breadth\")\n",
    "        print(\"Perimeter of Triangle:\", perimeter)\n"
   ]
  },
  {
   "cell_type": "code",
   "execution_count": 128,
   "id": "40466489-2d45-4762-b77d-e53d75b0aaf5",
   "metadata": {},
   "outputs": [],
   "source": [
    "triangle = Triangle()"
   ]
  },
  {
   "cell_type": "code",
   "execution_count": 130,
   "id": "0efad864-578c-4d3f-8fe6-e0f50f2a3d4d",
   "metadata": {},
   "outputs": [
    {
     "name": "stdout",
     "output_type": "stream",
     "text": [
      "Height: 32\n",
      "Breadth: 34\n",
      "Area formula: (Height * Breadth) / 2\n",
      "Area of Triangle: 544.0\n",
      "Height1: 2\n",
      "Height2: 4\n",
      "Breadth: 4\n",
      "Perimeter formula: Height1 + Height2 + Breadth\n",
      "Perimeter of Triangle: 10\n"
     ]
    }
   ],
   "source": [
    "triangle.triangle()"
   ]
  },
  {
   "cell_type": "code",
   "execution_count": null,
   "id": "d992cd02-bc81-4e45-980a-bd793cd3101d",
   "metadata": {},
   "outputs": [],
   "source": []
  }
 ],
 "metadata": {
  "kernelspec": {
   "display_name": "Python [conda env:base] *",
   "language": "python",
   "name": "conda-base-py"
  },
  "language_info": {
   "codemirror_mode": {
    "name": "ipython",
    "version": 3
   },
   "file_extension": ".py",
   "mimetype": "text/x-python",
   "name": "python",
   "nbconvert_exporter": "python",
   "pygments_lexer": "ipython3",
   "version": "3.12.7"
  }
 },
 "nbformat": 4,
 "nbformat_minor": 5
}
