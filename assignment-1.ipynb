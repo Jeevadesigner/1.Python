{
 "cells": [
  {
   "cell_type": "code",
   "execution_count": 1,
   "id": "899624ca-33e1-4108-989c-eeb5702510f1",
   "metadata": {},
   "outputs": [
    {
     "name": "stdout",
     "output_type": "stream",
     "text": [
      "Welcome to assignment -01\n"
     ]
    }
   ],
   "source": [
    "print(\"Welcome to assignment -01\")"
   ]
  },
  {
   "cell_type": "code",
   "execution_count": 7,
   "id": "4eaee932-b65b-4e8a-97fb-690624f030ad",
   "metadata": {},
   "outputs": [
    {
     "name": "stdout",
     "output_type": "stream",
     "text": [
      "The number 1: 10\n",
      "The number 2: 30\n",
      "The ans: 40\n"
     ]
    }
   ],
   "source": [
    "num1=10\n",
    "print(\"The number 1:\",num1)\n",
    "num2=30\n",
    "print(\"The number 2:\",num2)\n",
    "print (\"The ans:\",num1+num2)"
   ]
  },
  {
   "cell_type": "code",
   "execution_count": 9,
   "id": "9db14ba3-8ee0-48e7-8dcd-14f0187be928",
   "metadata": {},
   "outputs": [],
   "source": [
    "# Body Mass Index "
   ]
  },
  {
   "cell_type": "code",
   "execution_count": 49,
   "id": "0b9c0211-f5f9-43cb-8f08-d0d8bd006f08",
   "metadata": {},
   "outputs": [
    {
     "name": "stdin",
     "output_type": "stream",
     "text": [
      "enter the weight: 34\n"
     ]
    }
   ],
   "source": [
    "weight=int(input(\"enter the weight:\"))"
   ]
  },
  {
   "cell_type": "code",
   "execution_count": 51,
   "id": "8d6f8525-afb4-486d-8c2c-c452063b5886",
   "metadata": {},
   "outputs": [
    {
     "name": "stdout",
     "output_type": "stream",
     "text": [
      "very over weight\n"
     ]
    }
   ],
   "source": [
    "if(weight<17):\n",
    "    print(\"under weight\")\n",
    "elif(weight<20):\n",
    "    print(\"normal range\")\n",
    "elif(weight<25):\n",
    "    print(\"over weight\")\n",
    "else:\n",
    "    print(\"very over weight\")"
   ]
  },
  {
   "cell_type": "code",
   "execution_count": null,
   "id": "95889eb2-a80a-4daf-8b2a-77465f0b4420",
   "metadata": {},
   "outputs": [],
   "source": []
  }
 ],
 "metadata": {
  "kernelspec": {
   "display_name": "Python [conda env:base] *",
   "language": "python",
   "name": "conda-base-py"
  },
  "language_info": {
   "codemirror_mode": {
    "name": "ipython",
    "version": 3
   },
   "file_extension": ".py",
   "mimetype": "text/x-python",
   "name": "python",
   "nbconvert_exporter": "python",
   "pygments_lexer": "ipython3",
   "version": "3.12.7"
  }
 },
 "nbformat": 4,
 "nbformat_minor": 5
}
